{
 "cells": [
  {
   "cell_type": "markdown",
   "id": "3c1e8ed8",
   "metadata": {},
   "source": [
    "# Data Science Tools and Ecosystem"
   ]
  },
  {
   "cell_type": "markdown",
   "id": "05e33d50",
   "metadata": {},
   "source": [
    "In this notebook, Data Science Tools and Ecosystem are summarized."
   ]
  },
  {
   "cell_type": "markdown",
   "id": "906a1e70",
   "metadata": {},
   "source": [
    "**Objectives**:\n",
    "\n",
    "* List popular languages for Data Science\n",
    "* List of commonly used libraries by Data Scientist\n",
    "* Examples of evaluating Arithmitic Expressions"
   ]
  },
  {
   "cell_type": "markdown",
   "id": "a6faa1cc",
   "metadata": {},
   "source": [
    "Some of the popular languages that Data Scientists use are:\n",
    "\n",
    "1. Python\n",
    "\n",
    "2. R\n",
    "\n",
    "3. SQL\n",
    "\n",
    "4. Julia"
   ]
  },
  {
   "cell_type": "markdown",
   "id": "be158342",
   "metadata": {},
   "source": [
    "Some of the commonly used libraries used by Data Scientists include:\n",
    "\n",
    "1. Numpy\n",
    "2. Pandas\n",
    "3. Scikit-Learn\n",
    "4. Matplotlib\n",
    "5. Keras\n",
    "6. TensorFlow\n",
    "7. PyTorch"
   ]
  },
  {
   "cell_type": "markdown",
   "id": "aa0e5397",
   "metadata": {},
   "source": [
    "| Data Science Tools | \n",
    "| --- | \n",
    "| Tableau |\n",
    "| Power BI |\n",
    "| Apache Hadoop |\n",
    "| TensorFlow | \n",
    "\n"
   ]
  },
  {
   "cell_type": "markdown",
   "id": "92618441",
   "metadata": {},
   "source": [
    "### Below are a few examples of evaluating arithmetic expressions in Python"
   ]
  },
  {
   "cell_type": "code",
   "execution_count": 2,
   "id": "478be6f3",
   "metadata": {},
   "outputs": [
    {
     "data": {
      "text/plain": [
       "17.0"
      ]
     },
     "execution_count": 2,
     "metadata": {},
     "output_type": "execute_result"
    }
   ],
   "source": [
    "# This a simple arithmetic expression to mutiply then add integers.\n",
    "(3*4)+5."
   ]
  },
  {
   "cell_type": "code",
   "execution_count": 9,
   "id": "116b200d",
   "metadata": {},
   "outputs": [
    {
     "data": {
      "text/plain": [
       "3.5"
      ]
     },
     "execution_count": 9,
     "metadata": {},
     "output_type": "execute_result"
    }
   ],
   "source": [
    "# This will convert 200 minutes to hours by diving by 60.\n",
    "210/60"
   ]
  },
  {
   "cell_type": "markdown",
   "id": "042c693c",
   "metadata": {},
   "source": [
    "## Author\n",
    "Amani Mohammed"
   ]
  }
 ],
 "metadata": {
  "kernelspec": {
   "display_name": "Python 3 (ipykernel)",
   "language": "python",
   "name": "python3"
  },
  "language_info": {
   "codemirror_mode": {
    "name": "ipython",
    "version": 3
   },
   "file_extension": ".py",
   "mimetype": "text/x-python",
   "name": "python",
   "nbconvert_exporter": "python",
   "pygments_lexer": "ipython3",
   "version": "3.10.9"
  }
 },
 "nbformat": 4,
 "nbformat_minor": 5
}
